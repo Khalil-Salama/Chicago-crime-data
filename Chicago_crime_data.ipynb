{
  "nbformat": 4,
  "nbformat_minor": 0,
  "metadata": {
    "colab": {
      "provenance": [],
      "authorship_tag": "ABX9TyN+8A79tRkPblJoF6jW6VEE",
      "include_colab_link": true
    },
    "kernelspec": {
      "name": "python3",
      "display_name": "Python 3"
    },
    "language_info": {
      "name": "python"
    }
  },
  "cells": [
    {
      "cell_type": "markdown",
      "metadata": {
        "id": "view-in-github",
        "colab_type": "text"
      },
      "source": [
        "<a href=\"https://colab.research.google.com/github/Khalil-Salama/Chicago-crime-data/blob/main/Chicago_crime_data.ipynb\" target=\"_parent\"><img src=\"https://colab.research.google.com/assets/colab-badge.svg\" alt=\"Open In Colab\"/></a>"
      ]
    },
    {
      "cell_type": "code",
      "execution_count": 1,
      "metadata": {
        "id": "IxZmXMBqRaSY",
        "colab": {
          "base_uri": "https://localhost:8080/"
        },
        "outputId": "4bcbaba9-ed0d-41cc-bed7-f333bea35908"
      },
      "outputs": [
        {
          "output_type": "stream",
          "name": "stdout",
          "text": [
            "Mounted at /content/drive\n"
          ]
        }
      ],
      "source": [
        "###mount google drive\n",
        "from google.colab import drive\n",
        "drive.mount('/content/drive')"
      ]
    },
    {
      "cell_type": "code",
      "source": [
        "###imports\n",
        "import numpy as np\n",
        "import pandas as pd\n",
        "import matplotlib.pyplot as plt\n",
        "import seaborn as sns\n"
      ],
      "metadata": {
        "id": "Bj6Tdx3iSV07"
      },
      "execution_count": 2,
      "outputs": []
    },
    {
      "cell_type": "code",
      "source": [
        "ZIP_FILE = \"Data/Chicago_Crime_2001-2022.zip\""
      ],
      "metadata": {
        "id": "mMP3e4TlS6NT"
      },
      "execution_count": 4,
      "outputs": []
    },
    {
      "cell_type": "code",
      "source": [
        "import zipfile, os\n",
        "\n",
        "# Ensure the directory exists\n",
        "if not os.path.exists(os.path.dirname(ZIP_FILE)):\n",
        "    os.makedirs(os.path.dirname(ZIP_FILE))\n",
        "\n",
        "# Replace this with the actual list of files you want to zip\n",
        "# Example placeholder:\n",
        "# Downloads = ['file1.txt', 'file2.csv']\n",
        "Downloads = [] # Placeholder - replace with your list of files\n",
        "\n",
        "with zipfile.ZipFile(ZIP_FILE,'w',\n",
        "            compression=zipfile.ZIP_DEFLATED, compresslevel=9,) as zf:\n",
        "    for file in Downloads:\n",
        "        # Check if the file exists before adding to zip\n",
        "        if os.path.exists(file):\n",
        "            abspath = os.path.abspath(file)\n",
        "            zf.write(abspath, \"Data/\" + os.path.basename(abspath))\n",
        "        else:\n",
        "            print(f\"Warning: File not found and skipped: {file}\")"
      ],
      "metadata": {
        "id": "jBNECnIbSkMi"
      },
      "execution_count": 9,
      "outputs": []
    },
    {
      "cell_type": "code",
      "source": [
        "## opening google drive folder to upload zip\n",
        "import webbrowser\n",
        "link = \"https://drive.google.com/drive/folders/1TQzVrf3Wc6g1lv2j1EwcyFyE64P6ursz?usp=drive_link\"\n",
        "webbrowser.open(link)## opening google drive folder to upload zip\n",
        "import webbrowser\n",
        "link = \"https://drive.google.com/drive/folders/1TQzVrf3Wc6g1lv2j1EwcyFyE64P6ursz?usp=drive_link\"\n",
        "webbrowser.open(link)"
      ],
      "metadata": {
        "id": "d56IUpg9T5H-"
      },
      "execution_count": null,
      "outputs": []
    }
  ]
}